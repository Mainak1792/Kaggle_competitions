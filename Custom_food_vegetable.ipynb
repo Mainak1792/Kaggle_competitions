{
  "nbformat": 4,
  "nbformat_minor": 0,
  "metadata": {
    "colab": {
      "name": "Roton.ipynb",
      "provenance": [],
      "collapsed_sections": [],
      "mount_file_id": "1agGH7uRKhLkTVqx8e73WdQSYQJkUpLlB",
      "authorship_tag": "ABX9TyN8N2QZ9cO+MhckidjOY6iX",
      "include_colab_link": true
    },
    "kernelspec": {
      "name": "python3",
      "display_name": "Python 3"
    },
    "language_info": {
      "name": "python"
    },
    "accelerator": "GPU"
  },
  "cells": [
    {
      "cell_type": "markdown",
      "metadata": {
        "id": "view-in-github",
        "colab_type": "text"
      },
      "source": [
        "<a href=\"https://colab.research.google.com/github/Mainak1792/Kaggle_competitions/blob/main/Custom_food_vegetable.ipynb\" target=\"_parent\"><img src=\"https://colab.research.google.com/assets/colab-badge.svg\" alt=\"Open In Colab\"/></a>"
      ]
    },
    {
      "cell_type": "markdown",
      "metadata": {
        "id": "mvYL_lnnkvzU"
      },
      "source": [
        "Import The dependencies"
      ]
    },
    {
      "cell_type": "code",
      "metadata": {
        "id": "F8byQd8Ak0HU"
      },
      "source": [
        "import tensorflow as tf\n",
        "import keras_preprocessing\n",
        "from keras_preprocessing import image\n",
        "from keras_preprocessing.image import ImageDataGenerator\n",
        "import tensorflow as tf\n",
        "import matplotlib.image as img\n",
        "%matplotlib inline\n",
        "import numpy as np\n",
        "from collections import defaultdict\n",
        "import collections\n",
        "from shutil import copy\n",
        "from shutil import copytree, rmtree\n",
        "import tensorflow.keras.backend as K\n",
        "from tensorflow.keras.models import load_model\n",
        "from tensorflow.keras.preprocessing import image\n",
        "import matplotlib.pyplot as plt\n",
        "import numpy as np\n",
        "import os\n",
        "import random\n",
        "import tensorflow as tf\n",
        "import tensorflow.keras.backend as K\n",
        "from tensorflow.keras import regularizers\n",
        "from tensorflow.keras.applications.inception_v3 import InceptionV3\n",
        "from tensorflow.keras.models import Sequential, Model\n",
        "from tensorflow.keras.layers import Dense, Dropout, Activation, Flatten\n",
        "from tensorflow.keras.layers import Convolution2D, MaxPooling2D, ZeroPadding2D, GlobalAveragePooling2D, AveragePooling2D\n",
        "from tensorflow.keras.preprocessing.image import ImageDataGenerator\n",
        "from tensorflow.keras.callbacks import ModelCheckpoint, CSVLogger\n",
        "from tensorflow.keras.optimizers import SGD\n",
        "from tensorflow.keras.regularizers import l2\n",
        "from tensorflow import keras\n",
        "from tensorflow.keras import models\n",
        "import cv2"
      ],
      "execution_count": 12,
      "outputs": []
    },
    {
      "cell_type": "markdown",
      "metadata": {
        "id": "NChbynNdkwSE"
      },
      "source": [
        "Data Augmentaiton"
      ]
    },
    {
      "cell_type": "code",
      "metadata": {
        "colab": {
          "base_uri": "https://localhost:8080/"
        },
        "id": "KplOx7-Wk4IK",
        "outputId": "f4dddfac-57f9-422d-bdea-17ac884170a1"
      },
      "source": [
        "TRAINING_DIR = \"/content/drive/MyDrive/crop_Vegi/Train\"\n",
        "training_datagen = ImageDataGenerator(\n",
        "      rescale = 1./255,\n",
        "\t    rotation_range=40,\n",
        "      width_shift_range=0.2,\n",
        "      height_shift_range=0.2,\n",
        "      shear_range=0.2,\n",
        "      zoom_range=0.2,\n",
        "      horizontal_flip=True,\n",
        "      fill_mode='nearest')\n",
        "\n",
        "VALIDATION_DIR = \"/content/drive/MyDrive/crop_Vegi/Test\"\n",
        "validation_datagen = ImageDataGenerator(rescale = 1./255)\n",
        "\n",
        "train_generator = training_datagen.flow_from_directory(\n",
        "\tTRAINING_DIR,\n",
        "\ttarget_size=(150,150),\n",
        "\tclass_mode='categorical',\n",
        "  batch_size=64\n",
        ")\n",
        "\n",
        "validation_generator = validation_datagen.flow_from_directory(\n",
        "\tVALIDATION_DIR,\n",
        "\ttarget_size=(150,150),\n",
        "\tclass_mode='categorical',\n",
        "  batch_size=64\n",
        ")"
      ],
      "execution_count": 6,
      "outputs": [
        {
          "output_type": "stream",
          "text": [
            "Found 3914 images belonging to 17 classes.\n",
            "Found 1065 images belonging to 17 classes.\n"
          ],
          "name": "stdout"
        }
      ]
    },
    {
      "cell_type": "markdown",
      "metadata": {
        "id": "PMxNj9xpkwnR"
      },
      "source": [
        "I am using Three models to classify:\n",
        "1. 4-Layer Custom CNN \n",
        "2. INCEPTION v3\n",
        "3. mOBILE NET V\n",
        "4. RESNET 50\n",
        "\n",
        "\n",
        "[However, Restnet is a heavy model and training on such low data leads to very high training accuracy and very low validation accuracy ]"
      ]
    },
    {
      "cell_type": "markdown",
      "metadata": {
        "id": "AaWxDYWYHKcn"
      },
      "source": [
        "cUSTOM cnn Architecture"
      ]
    },
    {
      "cell_type": "code",
      "metadata": {
        "id": "GSK4y7rek7YF"
      },
      "source": [
        "\n",
        "model = tf.keras.models.Sequential([\n",
        "    # Note the input shape is the desired size of the image 150x150 with 3 bytes color\n",
        "    # This is the first convolution\n",
        "    tf.keras.layers.Conv2D(64, (3,3), activation='relu', input_shape=(150, 150, 3)),\n",
        "    tf.keras.layers.MaxPooling2D(2, 2),\n",
        "    # The second convolution\n",
        "    tf.keras.layers.Conv2D(64, (3,3), activation='relu'),\n",
        "    tf.keras.layers.MaxPooling2D(2,2),\n",
        "    # The third convolution\n",
        "    tf.keras.layers.Conv2D(128, (3,3), activation='relu'),\n",
        "    tf.keras.layers.MaxPooling2D(2,2),\n",
        "    # The fourth convolution\n",
        "    tf.keras.layers.Conv2D(128, (3,3), activation='relu'),\n",
        "    tf.keras.layers.MaxPooling2D(2,2),\n",
        "    # Flatten the results to feed into a DNN\n",
        "    tf.keras.layers.Flatten(),\n",
        "    tf.keras.layers.Dropout(0.5),\n",
        "    # 512 neuron hidden layer\n",
        "    tf.keras.layers.Dense(512, activation='relu'),\n",
        "    tf.keras.layers.Dense(17, activation='softmax')\n",
        "])\n"
      ],
      "execution_count": 7,
      "outputs": []
    },
    {
      "cell_type": "code",
      "metadata": {
        "colab": {
          "base_uri": "https://localhost:8080/"
        },
        "id": "HUWZB2mLlUMw",
        "outputId": "f55e979e-a38c-4cde-ea5a-dbfe8d46a890"
      },
      "source": [
        "\n",
        "model.summary()\n",
        "\n",
        "model.compile(loss = 'categorical_crossentropy', optimizer='rmsprop', metrics=['accuracy'])\n",
        "\n",
        "history = model.fit(train_generator, epochs=25, steps_per_epoch=20, validation_data = validation_generator, verbose = 1, validation_steps=3)"
      ],
      "execution_count": 8,
      "outputs": [
        {
          "output_type": "stream",
          "text": [
            "Model: \"sequential\"\n",
            "_________________________________________________________________\n",
            "Layer (type)                 Output Shape              Param #   \n",
            "=================================================================\n",
            "conv2d (Conv2D)              (None, 148, 148, 64)      1792      \n",
            "_________________________________________________________________\n",
            "max_pooling2d (MaxPooling2D) (None, 74, 74, 64)        0         \n",
            "_________________________________________________________________\n",
            "conv2d_1 (Conv2D)            (None, 72, 72, 64)        36928     \n",
            "_________________________________________________________________\n",
            "max_pooling2d_1 (MaxPooling2 (None, 36, 36, 64)        0         \n",
            "_________________________________________________________________\n",
            "conv2d_2 (Conv2D)            (None, 34, 34, 128)       73856     \n",
            "_________________________________________________________________\n",
            "max_pooling2d_2 (MaxPooling2 (None, 17, 17, 128)       0         \n",
            "_________________________________________________________________\n",
            "conv2d_3 (Conv2D)            (None, 15, 15, 128)       147584    \n",
            "_________________________________________________________________\n",
            "max_pooling2d_3 (MaxPooling2 (None, 7, 7, 128)         0         \n",
            "_________________________________________________________________\n",
            "flatten (Flatten)            (None, 6272)              0         \n",
            "_________________________________________________________________\n",
            "dropout (Dropout)            (None, 6272)              0         \n",
            "_________________________________________________________________\n",
            "dense (Dense)                (None, 512)               3211776   \n",
            "_________________________________________________________________\n",
            "dense_1 (Dense)              (None, 17)                8721      \n",
            "=================================================================\n",
            "Total params: 3,480,657\n",
            "Trainable params: 3,480,657\n",
            "Non-trainable params: 0\n",
            "_________________________________________________________________\n",
            "Epoch 1/25\n",
            "18/20 [==========================>...] - ETA: 28s - loss: 2.7334 - accuracy: 0.1721"
          ],
          "name": "stdout"
        },
        {
          "output_type": "stream",
          "text": [
            "/usr/local/lib/python3.7/dist-packages/PIL/Image.py:960: UserWarning: Palette images with Transparency expressed in bytes should be converted to RGBA images\n",
            "  \"Palette images with Transparency expressed in bytes should be \"\n"
          ],
          "name": "stderr"
        },
        {
          "output_type": "stream",
          "text": [
            "20/20 [==============================] - 387s 18s/step - loss: 2.6858 - accuracy: 0.1803 - val_loss: 2.1899 - val_accuracy: 0.2552\n",
            "Epoch 2/25\n",
            "20/20 [==============================] - 284s 14s/step - loss: 2.0065 - accuracy: 0.2945 - val_loss: 1.4343 - val_accuracy: 0.4688\n",
            "Epoch 3/25\n",
            "20/20 [==============================] - 201s 10s/step - loss: 1.6605 - accuracy: 0.4430 - val_loss: 1.1071 - val_accuracy: 0.6875\n",
            "Epoch 4/25\n",
            "20/20 [==============================] - ETA: 0s - loss: 1.3735 - accuracy: 0.5514"
          ],
          "name": "stdout"
        },
        {
          "output_type": "stream",
          "text": [
            "/usr/local/lib/python3.7/dist-packages/PIL/TiffImagePlugin.py:788: UserWarning: Corrupt EXIF data.  Expecting to read 4 bytes but only got 0. \n",
            "  warnings.warn(str(msg))\n"
          ],
          "name": "stderr"
        },
        {
          "output_type": "stream",
          "text": [
            "20/20 [==============================] - 147s 7s/step - loss: 1.3735 - accuracy: 0.5514 - val_loss: 1.1326 - val_accuracy: 0.6615\n",
            "Epoch 5/25\n",
            "20/20 [==============================] - 114s 6s/step - loss: 1.0280 - accuracy: 0.6687 - val_loss: 2.1209 - val_accuracy: 0.6510\n",
            "Epoch 6/25\n",
            "20/20 [==============================] - 74s 4s/step - loss: 0.7775 - accuracy: 0.7423 - val_loss: 0.8739 - val_accuracy: 0.8021\n",
            "Epoch 7/25\n",
            "20/20 [==============================] - 57s 3s/step - loss: 0.6727 - accuracy: 0.7992 - val_loss: 1.7370 - val_accuracy: 0.7396\n",
            "Epoch 8/25\n",
            "20/20 [==============================] - 50s 3s/step - loss: 1.0758 - accuracy: 0.7906 - val_loss: 1.2238 - val_accuracy: 0.7969\n",
            "Epoch 9/25\n",
            "20/20 [==============================] - 38s 2s/step - loss: 0.5492 - accuracy: 0.8359 - val_loss: 1.5108 - val_accuracy: 0.8125\n",
            "Epoch 10/25\n",
            "20/20 [==============================] - 33s 2s/step - loss: 0.6643 - accuracy: 0.7969 - val_loss: 2.8041 - val_accuracy: 0.7396\n",
            "Epoch 11/25\n",
            "20/20 [==============================] - 28s 1s/step - loss: 0.4946 - accuracy: 0.8516 - val_loss: 1.9018 - val_accuracy: 0.7865\n",
            "Epoch 12/25\n",
            "20/20 [==============================] - 26s 1s/step - loss: 0.5847 - accuracy: 0.8181 - val_loss: 3.1408 - val_accuracy: 0.7292\n",
            "Epoch 13/25\n",
            "20/20 [==============================] - 26s 1s/step - loss: 0.5152 - accuracy: 0.8562 - val_loss: 1.6752 - val_accuracy: 0.8385\n",
            "Epoch 14/25\n",
            "20/20 [==============================] - 25s 1s/step - loss: 0.5401 - accuracy: 0.8453 - val_loss: 2.3564 - val_accuracy: 0.7500\n",
            "Epoch 15/25\n",
            "20/20 [==============================] - 21s 1s/step - loss: 0.4010 - accuracy: 0.8744 - val_loss: 3.1632 - val_accuracy: 0.6250\n",
            "Epoch 16/25\n",
            "20/20 [==============================] - 22s 1s/step - loss: 0.4244 - accuracy: 0.8750 - val_loss: 1.1700 - val_accuracy: 0.8073\n",
            "Epoch 17/25\n",
            "20/20 [==============================] - 20s 1s/step - loss: 0.3215 - accuracy: 0.8969 - val_loss: 2.0408 - val_accuracy: 0.7604\n",
            "Epoch 18/25\n",
            "20/20 [==============================] - 19s 940ms/step - loss: 0.4078 - accuracy: 0.8766 - val_loss: 1.7368 - val_accuracy: 0.8021\n",
            "Epoch 19/25\n",
            "20/20 [==============================] - 24s 1s/step - loss: 0.4653 - accuracy: 0.8625 - val_loss: 1.8591 - val_accuracy: 0.8073\n",
            "Epoch 20/25\n",
            "20/20 [==============================] - 22s 1s/step - loss: 0.3096 - accuracy: 0.9086 - val_loss: 2.8819 - val_accuracy: 0.7500\n",
            "Epoch 21/25\n",
            "20/20 [==============================] - 22s 1s/step - loss: 0.4281 - accuracy: 0.8654 - val_loss: 1.8107 - val_accuracy: 0.8333\n",
            "Epoch 22/25\n",
            "20/20 [==============================] - 22s 1s/step - loss: 0.2802 - accuracy: 0.9062 - val_loss: 2.8670 - val_accuracy: 0.6198\n",
            "Epoch 23/25\n",
            "20/20 [==============================] - 22s 1s/step - loss: 0.4068 - accuracy: 0.8883 - val_loss: 2.8374 - val_accuracy: 0.8073\n",
            "Epoch 24/25\n",
            "20/20 [==============================] - 21s 1s/step - loss: 0.4369 - accuracy: 0.8766 - val_loss: 2.5387 - val_accuracy: 0.7812\n",
            "Epoch 25/25\n",
            "20/20 [==============================] - 21s 1s/step - loss: 0.2718 - accuracy: 0.9180 - val_loss: 3.0584 - val_accuracy: 0.7969\n"
          ],
          "name": "stdout"
        }
      ]
    },
    {
      "cell_type": "markdown",
      "metadata": {
        "id": "I-Z6ckXjHN2U"
      },
      "source": [
        "RESNET+MOBILE_NET+INCEPTION"
      ]
    },
    {
      "cell_type": "markdown",
      "metadata": {
        "id": "h6eoj1lQHU0B"
      },
      "source": [
        "UNCOMMENT AND USE"
      ]
    },
    {
      "cell_type": "code",
      "metadata": {
        "colab": {
          "base_uri": "https://localhost:8080/"
        },
        "id": "FCn2MaDS7ZR4",
        "outputId": "012d0e18-9281-4f5f-939c-01ca7cd08850"
      },
      "source": [
        "# from tensorflow.keras.applications.resnet50 import ResNet50\n",
        "# resnet = tf.keras.applications.resnet.ResNet50(input_shape=(150,150,3),\n",
        "                                              #  include_top=False,\n",
        "                                              #  weights='imagenet')\n",
        "# x = tf.keras.layers.GlobalAveragePooling2D()(resnet.output)\n",
        "# x = tf.keras.layers.Flatten()(x)\n",
        "# x = tf.keras.layers.Dense(1024, activation=\"relu\")(x)\n",
        "# x = tf.keras.layers.Dense(512, activation=\"relu\")(x)\n",
        "# x = tf.keras.layers.Dense(17, activation=\"softmax\", name=\"classification\")(x)\n",
        "\n",
        "# inception = InceptionV3(weights='imagenet', include_top=False)\n",
        "inception = tf.keras.applications.MobileNet(weights='imagenet', include_top=False)\n",
        "x = inception.output\n",
        "x = GlobalAveragePooling2D()(x)\n",
        "x = Dense(128,activation='relu')(x)\n",
        "x = Dropout(0.2)(x)\n",
        "\n",
        "predictions = Dense(17,kernel_regularizer=regularizers.l2(0.005), activation='softmax')(x)\n",
        "\n",
        "model = Model(inputs=inception.input, outputs=predictions)\n",
        "model.compile(optimizer=SGD(lr=0.01, momentum=0.9), loss='categorical_crossentropy', metrics=['accuracy'])\n",
        "checkpointer = ModelCheckpoint(filepath='best_model_3class.hdf5', verbose=1, save_best_only=True)\n",
        "csv_logger = CSVLogger('history_3class.log')\n",
        "\n",
        "history = model.fit(train_generator,\n",
        "                    steps_per_epoch = 20,\n",
        "                    validation_data=validation_generator,\n",
        "                    validation_steps= 3,\n",
        "                    epochs=25,\n",
        "                    verbose=1)\n",
        "\n",
        "# model.save('model_trained_3class.hdf5')"
      ],
      "execution_count": 18,
      "outputs": [
        {
          "output_type": "stream",
          "text": [
            "WARNING:tensorflow:`input_shape` is undefined or non-square, or `rows` is not in [128, 160, 192, 224]. Weights for input shape (224, 224) will be loaded as the default.\n",
            "Downloading data from https://storage.googleapis.com/tensorflow/keras-applications/mobilenet/mobilenet_1_0_224_tf_no_top.h5\n",
            "17227776/17225924 [==============================] - 0s 0us/step\n"
          ],
          "name": "stdout"
        },
        {
          "output_type": "stream",
          "text": [
            "/usr/local/lib/python3.7/dist-packages/tensorflow/python/keras/optimizer_v2/optimizer_v2.py:375: UserWarning: The `lr` argument is deprecated, use `learning_rate` instead.\n",
            "  \"The `lr` argument is deprecated, use `learning_rate` instead.\")\n"
          ],
          "name": "stderr"
        },
        {
          "output_type": "stream",
          "text": [
            "Epoch 1/25\n",
            " 6/20 [========>.....................] - ETA: 9s - loss: 2.2361 - accuracy: 0.4297"
          ],
          "name": "stdout"
        },
        {
          "output_type": "stream",
          "text": [
            "/usr/local/lib/python3.7/dist-packages/PIL/Image.py:960: UserWarning: Palette images with Transparency expressed in bytes should be converted to RGBA images\n",
            "  \"Palette images with Transparency expressed in bytes should be \"\n"
          ],
          "name": "stderr"
        },
        {
          "output_type": "stream",
          "text": [
            "20/20 [==============================] - 24s 1s/step - loss: 1.1756 - accuracy: 0.7129 - val_loss: 5.3650 - val_accuracy: 0.4323\n",
            "Epoch 2/25\n",
            "20/20 [==============================] - 22s 1s/step - loss: 0.3995 - accuracy: 0.9250 - val_loss: 5.4326 - val_accuracy: 0.6250\n",
            "Epoch 3/25\n",
            " 7/20 [=========>....................] - ETA: 10s - loss: 0.2927 - accuracy: 0.9509"
          ],
          "name": "stdout"
        },
        {
          "output_type": "stream",
          "text": [
            "/usr/local/lib/python3.7/dist-packages/PIL/TiffImagePlugin.py:788: UserWarning: Corrupt EXIF data.  Expecting to read 4 bytes but only got 0. \n",
            "  warnings.warn(str(msg))\n"
          ],
          "name": "stderr"
        },
        {
          "output_type": "stream",
          "text": [
            "20/20 [==============================] - 21s 1s/step - loss: 0.3288 - accuracy: 0.9454 - val_loss: 4.1280 - val_accuracy: 0.5260\n",
            "Epoch 4/25\n",
            "20/20 [==============================] - 20s 987ms/step - loss: 0.2677 - accuracy: 0.9602 - val_loss: 4.2850 - val_accuracy: 0.5104\n",
            "Epoch 5/25\n",
            "20/20 [==============================] - 24s 1s/step - loss: 0.2492 - accuracy: 0.9625 - val_loss: 1.9996 - val_accuracy: 0.6094\n",
            "Epoch 6/25\n",
            "20/20 [==============================] - 23s 1s/step - loss: 0.2163 - accuracy: 0.9703 - val_loss: 2.0242 - val_accuracy: 0.5625\n",
            "Epoch 7/25\n",
            "20/20 [==============================] - 21s 1s/step - loss: 0.2180 - accuracy: 0.9742 - val_loss: 1.4381 - val_accuracy: 0.7292\n",
            "Epoch 8/25\n",
            "20/20 [==============================] - 22s 1s/step - loss: 0.1971 - accuracy: 0.9734 - val_loss: 2.3690 - val_accuracy: 0.6250\n",
            "Epoch 9/25\n",
            "20/20 [==============================] - 21s 1s/step - loss: 0.2030 - accuracy: 0.9723 - val_loss: 1.2305 - val_accuracy: 0.7552\n",
            "Epoch 10/25\n",
            "20/20 [==============================] - 24s 1s/step - loss: 0.1830 - accuracy: 0.9797 - val_loss: 1.0823 - val_accuracy: 0.8177\n",
            "Epoch 11/25\n",
            "20/20 [==============================] - 21s 1s/step - loss: 0.1448 - accuracy: 0.9844 - val_loss: 1.6317 - val_accuracy: 0.8021\n",
            "Epoch 12/25\n",
            "20/20 [==============================] - 23s 1s/step - loss: 0.1655 - accuracy: 0.9789 - val_loss: 1.3555 - val_accuracy: 0.8229\n",
            "Epoch 13/25\n",
            "20/20 [==============================] - 23s 1s/step - loss: 0.1383 - accuracy: 0.9891 - val_loss: 1.1479 - val_accuracy: 0.8385\n",
            "Epoch 14/25\n",
            "20/20 [==============================] - 19s 982ms/step - loss: 0.1330 - accuracy: 0.9845 - val_loss: 1.6076 - val_accuracy: 0.8021\n",
            "Epoch 15/25\n",
            "20/20 [==============================] - 25s 1s/step - loss: 0.1292 - accuracy: 0.9867 - val_loss: 1.4867 - val_accuracy: 0.8177\n",
            "Epoch 16/25\n",
            "20/20 [==============================] - 23s 1s/step - loss: 0.1233 - accuracy: 0.9883 - val_loss: 1.2426 - val_accuracy: 0.8385\n",
            "Epoch 17/25\n",
            "20/20 [==============================] - 20s 993ms/step - loss: 0.1378 - accuracy: 0.9853 - val_loss: 1.2931 - val_accuracy: 0.8125\n",
            "Epoch 18/25\n",
            "20/20 [==============================] - 20s 981ms/step - loss: 0.1258 - accuracy: 0.9883 - val_loss: 1.2382 - val_accuracy: 0.8333\n",
            "Epoch 19/25\n",
            "20/20 [==============================] - 22s 1s/step - loss: 0.1196 - accuracy: 0.9906 - val_loss: 1.5578 - val_accuracy: 0.8125\n",
            "Epoch 20/25\n",
            "20/20 [==============================] - 21s 1s/step - loss: 0.1116 - accuracy: 0.9906 - val_loss: 1.3843 - val_accuracy: 0.8021\n",
            "Epoch 21/25\n",
            "20/20 [==============================] - 23s 1s/step - loss: 0.0954 - accuracy: 0.9961 - val_loss: 1.3461 - val_accuracy: 0.8229\n",
            "Epoch 22/25\n",
            "20/20 [==============================] - 21s 1s/step - loss: 0.0974 - accuracy: 0.9914 - val_loss: 1.7254 - val_accuracy: 0.7865\n",
            "Epoch 23/25\n",
            "20/20 [==============================] - 20s 987ms/step - loss: 0.1079 - accuracy: 0.9883 - val_loss: 1.4848 - val_accuracy: 0.8073\n",
            "Epoch 24/25\n",
            "20/20 [==============================] - 20s 1s/step - loss: 0.0960 - accuracy: 0.9930 - val_loss: 1.6506 - val_accuracy: 0.7812\n",
            "Epoch 25/25\n",
            "20/20 [==============================] - 20s 989ms/step - loss: 0.0838 - accuracy: 0.9935 - val_loss: 1.8065 - val_accuracy: 0.7604\n"
          ],
          "name": "stdout"
        }
      ]
    },
    {
      "cell_type": "code",
      "metadata": {
        "id": "caPX6b_-BSN8"
      },
      "source": [
        "model.save('cfv_inception.hdf5')"
      ],
      "execution_count": 17,
      "outputs": []
    },
    {
      "cell_type": "code",
      "metadata": {
        "id": "4bXwm8j0lWmg"
      },
      "source": [
        "model.save(\"cfv.h5\")"
      ],
      "execution_count": 9,
      "outputs": []
    },
    {
      "cell_type": "markdown",
      "metadata": {
        "id": "UlhthSAkkw7H"
      },
      "source": [
        "Result Analysis"
      ]
    },
    {
      "cell_type": "code",
      "metadata": {
        "colab": {
          "base_uri": "https://localhost:8080/",
          "height": 299
        },
        "id": "KnikqgaOlAGb",
        "outputId": "e44cfe4d-4ffd-4628-84c2-7116a5d54d05"
      },
      "source": [
        "import matplotlib.pyplot as plt\n",
        "acc = history.history['accuracy']\n",
        "val_acc = history.history['val_accuracy']\n",
        "loss = history.history['loss']\n",
        "val_loss = history.history['val_loss']\n",
        "\n",
        "epochs = range(len(acc))\n",
        "\n",
        "plt.plot(epochs, acc, 'r', label='Training accuracy')\n",
        "plt.plot(epochs, val_acc, 'b', label='Validation accuracy')\n",
        "plt.title('Training and validation accuracy')\n",
        "plt.legend(loc=0)\n",
        "plt.figure()\n",
        "\n",
        "\n",
        "plt.show()"
      ],
      "execution_count": 23,
      "outputs": [
        {
          "output_type": "display_data",
          "data": {
            "image/png": "[encoded data removed]",
            "text/plain": [
              "<Figure size 432x288 with 1 Axes>"
            ]
          },
          "metadata": {
            "tags": [],
            "needs_background": "light"
          }
        },
        {
          "output_type": "display_data",
          "data": {
            "text/plain": [
              "<Figure size 432x288 with 0 Axes>"
            ]
          },
          "metadata": {
            "tags": []
          }
        }
      ]
    },
    {
      "cell_type": "code",
      "metadata": {
        "colab": {
          "base_uri": "https://localhost:8080/"
        },
        "id": "VblGs4BSC4iT",
        "outputId": "c94eb917-c596-420e-c43c-d454de750c5c"
      },
      "source": [
        "from tensorflow.python import keras\n",
        "import tensorflow\n",
        "\n",
        "modelnew = keras.models.load_model('/content/cfv.h5')\n",
        "converter=tensorflow.lite.TFLiteConverter.from_keras_model(modelnew)\n",
        "tflite_model = converter.convert()\n",
        "open(\"cfv_tf.tflite\", \"wb\").write(tflite_model)"
      ],
      "execution_count": 21,
      "outputs": [
        {
          "output_type": "stream",
          "text": [
            "INFO:tensorflow:Assets written to: /tmp/tmpi5yhzdr1/assets\n"
          ],
          "name": "stdout"
        },
        {
          "output_type": "execute_result",
          "data": {
            "text/plain": [
              "13927360"
            ]
          },
          "metadata": {
            "tags": []
          },
          "execution_count": 21
        }
      ]
    },
    {
      "cell_type": "code",
      "metadata": {
        "colab": {
          "base_uri": "https://localhost:8080/"
        },
        "id": "z086ZoL6lZ7E",
        "outputId": "d6496d2b-9168-446d-ed51-216a1c405b69"
      },
      "source": [
        "from tensorflow.python import keras\n",
        "import tensorflow\n",
        "\n",
        "modelnew = keras.models.load_model('/content/cfv_inception.hdf5')\n",
        "converter=tensorflow.lite.TFLiteConverter.from_keras_model(modelnew)\n",
        "tflite_model = converter.convert()\n",
        "open(\"cfv_inception_tf.tflite\", \"wb\").write(tflite_model)"
      ],
      "execution_count": 22,
      "outputs": [
        {
          "output_type": "stream",
          "text": [
            "INFO:tensorflow:Assets written to: /tmp/tmpczs7pbq0/assets\n"
          ],
          "name": "stdout"
        },
        {
          "output_type": "stream",
          "text": [
            "INFO:tensorflow:Assets written to: /tmp/tmpczs7pbq0/assets\n"
          ],
          "name": "stderr"
        },
        {
          "output_type": "execute_result",
          "data": {
            "text/plain": [
              "88187360"
            ]
          },
          "metadata": {
            "tags": []
          },
          "execution_count": 22
        }
      ]
    }
  ]
}